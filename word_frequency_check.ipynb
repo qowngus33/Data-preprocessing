{
  "nbformat": 4,
  "nbformat_minor": 0,
  "metadata": {
    "colab": {
      "name": "Untitled9.ipynb",
      "provenance": [],
      "authorship_tag": "ABX9TyMWSmoCxc0FWaKKoX9pFQ1j",
      "include_colab_link": true
    },
    "kernelspec": {
      "name": "python3",
      "display_name": "Python 3"
    },
    "language_info": {
      "name": "python"
    }
  },
  "cells": [
    {
      "cell_type": "markdown",
      "metadata": {
        "id": "view-in-github",
        "colab_type": "text"
      },
      "source": [
        "<a href=\"https://colab.research.google.com/github/qowngus33/Data-preprocessing/blob/main/word_frequency_check.ipynb\" target=\"_parent\"><img src=\"https://colab.research.google.com/assets/colab-badge.svg\" alt=\"Open In Colab\"/></a>"
      ]
    },
    {
      "cell_type": "code",
      "execution_count": 1,
      "metadata": {
        "id": "jlBqxNwh5Yx5"
      },
      "outputs": [],
      "source": [
        "%matplotlib inline\n",
        "\n",
        "import numpy as np\n",
        "import seaborn as sns\n",
        "import matplotlib.pyplot as plt\n",
        "\n",
        "import pandas as pd\n",
        "\n",
        "# 데이터프레임을 읽어옴\n",
        "petDisease = pd.read_csv('pet.csv',encoding='cp949')"
      ]
    },
    {
      "cell_type": "code",
      "source": [
        "# 필요없는 열 삭제\n",
        "petDisease = petDisease.drop(['참고문헌','병리소견','정의','발병 및 역학','진단','기타','발병기전'],axis=1)"
      ],
      "metadata": {
        "id": "KFufnz466H_Y"
      },
      "execution_count": 2,
      "outputs": []
    },
    {
      "cell_type": "code",
      "source": [
        "petDisease = petDisease.dropna(subset=['주요증상'])"
      ],
      "metadata": {
        "id": "w32kaS0l8Uu7"
      },
      "execution_count": 3,
      "outputs": []
    },
    {
      "cell_type": "code",
      "source": [
        "!pip install konlpy\n",
        "!pip install jpype1\n",
        "\n",
        "import jpype\n",
        "import konlpy\n",
        "\n",
        "from konlpy.tag import Mecab\n",
        "from nltk import FreqDist"
      ],
      "metadata": {
        "colab": {
          "base_uri": "https://localhost:8080/"
        },
        "id": "QxEwJU_W8uGh",
        "outputId": "19fc3d99-7239-405e-b08c-4f8ce1d35af2"
      },
      "execution_count": 4,
      "outputs": [
        {
          "output_type": "stream",
          "name": "stdout",
          "text": [
            "Looking in indexes: https://pypi.org/simple, https://us-python.pkg.dev/colab-wheels/public/simple/\n",
            "Collecting konlpy\n",
            "  Downloading konlpy-0.6.0-py2.py3-none-any.whl (19.4 MB)\n",
            "\u001b[K     |████████████████████████████████| 19.4 MB 1.6 MB/s \n",
            "\u001b[?25hRequirement already satisfied: numpy>=1.6 in /usr/local/lib/python3.7/dist-packages (from konlpy) (1.21.6)\n",
            "Collecting JPype1>=0.7.0\n",
            "  Downloading JPype1-1.4.0-cp37-cp37m-manylinux_2_5_x86_64.manylinux1_x86_64.whl (453 kB)\n",
            "\u001b[K     |████████████████████████████████| 453 kB 48.5 MB/s \n",
            "\u001b[?25hRequirement already satisfied: lxml>=4.1.0 in /usr/local/lib/python3.7/dist-packages (from konlpy) (4.9.1)\n",
            "Requirement already satisfied: typing-extensions in /usr/local/lib/python3.7/dist-packages (from JPype1>=0.7.0->konlpy) (4.1.1)\n",
            "Installing collected packages: JPype1, konlpy\n",
            "Successfully installed JPype1-1.4.0 konlpy-0.6.0\n",
            "Looking in indexes: https://pypi.org/simple, https://us-python.pkg.dev/colab-wheels/public/simple/\n",
            "Requirement already satisfied: jpype1 in /usr/local/lib/python3.7/dist-packages (1.4.0)\n",
            "Requirement already satisfied: typing-extensions in /usr/local/lib/python3.7/dist-packages (from jpype1) (4.1.1)\n"
          ]
        }
      ]
    },
    {
      "cell_type": "code",
      "source": [
        "from konlpy.tag import Twitter\n",
        "\n",
        "twt = Twitter()\n",
        "\n",
        "# 불용어 정의\n",
        "stopwords=['의','가','이','은','들','는','좀','잘','걍','과','도','를','으로','자','에','와','한','하다']\n",
        "all_words = []\n",
        "satis = []\n",
        "\n",
        "for n in range(len(petDisease)):\n",
        "  text = petDisease['주요증상'].iloc[n]\n",
        "  words = twt.pos(text)\n",
        "\n",
        "  for i, j in words:\n",
        "    if j == \"Noun\":\n",
        "      if i not in stopwords:\n",
        "        all_words.append(i)\n",
        "print(len(all_words))"
      ],
      "metadata": {
        "colab": {
          "base_uri": "https://localhost:8080/"
        },
        "id": "JwsoXCIl9rBN",
        "outputId": "ebe3d788-0a22-449c-f49d-b15b390ed164"
      },
      "execution_count": 41,
      "outputs": [
        {
          "output_type": "stream",
          "name": "stdout",
          "text": [
            "83751\n"
          ]
        }
      ]
    },
    {
      "cell_type": "code",
      "source": [
        "from wordcloud import WordCloud\n",
        "import matplotlib.pyplot as plt\n",
        "from collections import Counter\n",
        "from konlpy.tag import Okt\n",
        "from PIL import Image\n",
        "import numpy as np"
      ],
      "metadata": {
        "id": "--JgMiil-FrV"
      },
      "execution_count": 42,
      "outputs": []
    },
    {
      "cell_type": "code",
      "source": [
        "c = Counter(all_words)\n",
        "\n",
        "print(c.most_common(n=30))"
      ],
      "metadata": {
        "colab": {
          "base_uri": "https://localhost:8080/"
        },
        "id": "uoZoP7CV-Gt_",
        "outputId": "7cae4253-6c5e-4a00-b2ce-07ce6ccc0d0e"
      },
      "execution_count": 43,
      "outputs": [
        {
          "output_type": "stream",
          "name": "stdout",
          "text": [
            "[('호흡', 2358), ('피부', 2302), ('종창', 1548), ('종괴', 1452), ('감소', 1445), ('마비', 1206), ('뒷다리', 1123), ('통증', 1111), ('무기', 1051), ('식욕', 931), ('앞다리', 906), ('불량', 788), ('증', 780), ('불능', 761), ('운동', 758), ('파행', 714), ('비정상', 685), ('부전', 681), ('경직', 674), ('곤란', 631), ('식욕부진', 605), ('이상', 604), ('종대', 584), ('관절', 562), ('전신', 561), ('감각', 532), ('절름발', 531), ('체중', 517), ('머리', 517), ('침울', 502)]\n"
          ]
        }
      ]
    },
    {
      "cell_type": "code",
      "source": [
        "all_words = ['이름']\n",
        "for n in range(len(petDisease)):\n",
        "  text = petDisease['주요증상'].iloc[n]\n",
        "  text = text.replace('|',',')\n",
        "  text = text.replace('\\r','')\n",
        "  text = text.replace(' ','')\n",
        "  words = text.split(',')\n",
        "  for word in words:\n",
        "    if len(word) > 0:\n",
        "      all_words.append(word)\n",
        "\n",
        "c = Counter(all_words)\n",
        "print(c.most_common(n=10))"
      ],
      "metadata": {
        "colab": {
          "base_uri": "https://localhost:8080/"
        },
        "id": "2DSTGlU6-wuv",
        "outputId": "ab48bc98-c74d-4250-b20a-bba385f4de41"
      },
      "execution_count": 44,
      "outputs": [
        {
          "output_type": "stream",
          "name": "stdout",
          "text": [
            "[('무기력', 917), ('종괴', 895), ('식욕부진', 611), ('경직', 570), ('절름발이', 529), ('침울', 501), ('졸림', 484), ('생기없음', 479), ('마비', 469), ('식욕감소', 444)]\n"
          ]
        }
      ]
    },
    {
      "cell_type": "code",
      "source": [
        "# 데이터프레임을 읽어옴\n",
        "catNAN = pd.read_csv('catNAN.csv',encoding='UTF-8')\n",
        "dogNAN = pd.read_csv('dogNAN.csv',encoding='UTF-8')\n",
        "puppyNAN = pd.read_csv('puppyNAN.csv',encoding='UTF-8')"
      ],
      "metadata": {
        "id": "Kb3TEQxXPOwi"
      },
      "execution_count": 45,
      "outputs": []
    },
    {
      "cell_type": "code",
      "source": [
        "print(catNAN.dtypes)\n",
        "print(dogNAN.dtypes)\n",
        "print(puppyNAN.dtypes)"
      ],
      "metadata": {
        "colab": {
          "base_uri": "https://localhost:8080/"
        },
        "id": "MxaDI9H6eCD9",
        "outputId": "a0ebeafa-9104-412e-833b-ee32eae66261"
      },
      "execution_count": 46,
      "outputs": [
        {
          "output_type": "stream",
          "name": "stdout",
          "text": [
            "Unnamed: 0     int64\n",
            "제목            object\n",
            "질문            object\n",
            "dtype: object\n",
            "Unnamed: 0     int64\n",
            "제목            object\n",
            "질문            object\n",
            "dtype: object\n",
            "Unnamed: 0     int64\n",
            "제목            object\n",
            "질문            object\n",
            "dtype: object\n"
          ]
        }
      ]
    },
    {
      "cell_type": "code",
      "source": [
        "twt = Twitter()\n",
        "\n",
        "# 불용어 정의\n",
        "stopwords=['의','가','이','은','들','는','좀','잘','걍','과','도','를','으로','자','에','와','한','하다','강아지','고양이','개','분양','때문','그','거','안','전','계속','저','더','후','저희',\n",
        "           '혹시','요','것','제','정도','지금','수','개월','갑자기','질문','왜','조금','또','가요','마리','다시','한번','때','번','못','알','곳','그냥','하나요','현재','어제','번','원래','해',\n",
        "           '건가','자꾸','뭐','평소','보고','날','게']\n",
        "all_words = []\n",
        "satis = []\n",
        "\n",
        "for n in range(len(catNAN)):\n",
        "  text = catNAN['제목'].iloc[n] + \" \" + catNAN['질문'].iloc[n]\n",
        "  words = twt.pos(text)\n",
        "  for i, j in words:\n",
        "    if j == \"Noun\":\n",
        "      if i not in stopwords:\n",
        "        all_words.append(i)\n",
        "\n",
        "for n in range(len(dogNAN)):\n",
        "  text = dogNAN['제목'].iloc[n] + \" \" + dogNAN['질문'].iloc[n]\n",
        "  words = twt.pos(text)\n",
        "  for i, j in words:\n",
        "    if j == \"Noun\":\n",
        "      if i not in stopwords:\n",
        "        all_words.append(i)\n",
        "\n",
        "for n in range(len(puppyNAN)):\n",
        "  text = puppyNAN['제목'].iloc[n] + \" \" + puppyNAN['질문'].iloc[n]\n",
        "  words = twt.pos(text)\n",
        "  for i, j in words:\n",
        "    if j == \"Noun\":\n",
        "      if i not in stopwords:\n",
        "        all_words.append(i)\n",
        "\n",
        "c = Counter(all_words)\n",
        "print(c.most_common(n=10))"
      ],
      "metadata": {
        "colab": {
          "base_uri": "https://localhost:8080/"
        },
        "id": "RmskjeXze0ID",
        "outputId": "6fa309a8-48e9-4323-9bfe-fbc38afe3630"
      },
      "execution_count": 47,
      "outputs": [
        {
          "output_type": "stream",
          "name": "stdout",
          "text": [
            "[('병원', 948), ('수술', 774), ('집', 602), ('중성', 439), ('약', 407), ('토', 407), ('살', 371), ('검사', 347), ('사료', 326), ('걱정', 309)]\n"
          ]
        }
      ]
    },
    {
      "cell_type": "code",
      "source": [
        "c = Counter(all_words)\n",
        "word_list = c.most_common(n=150)"
      ],
      "metadata": {
        "id": "2yviYsAxfQkh"
      },
      "execution_count": 52,
      "outputs": []
    },
    {
      "cell_type": "code",
      "source": [
        "word_frame = pd.DataFrame([['예시',0]], columns = ['단어','빈도수'])   \n",
        "\n",
        "idx = 1\n",
        "for word,num in word_list:\n",
        "  word_frame.loc[idx] = [word,num]\n",
        "  idx += 1\n",
        "  if idx > 150:\n",
        "    break\n",
        "\n",
        "word_frame.to_csv(\"word_count.csv\", encoding='euc-kr')"
      ],
      "metadata": {
        "id": "IJH1A4qkgOXo"
      },
      "execution_count": 54,
      "outputs": []
    },
    {
      "cell_type": "code",
      "source": [
        ""
      ],
      "metadata": {
        "id": "0GAsEwnmmPfs"
      },
      "execution_count": null,
      "outputs": []
    }
  ]
}